# %% [R]
# TCGA Data Download Notebook

# %% [R]
library(TCGAbiolinks)

# Query TCGA-BRCA data
query <- GDCquery(
  project = "TCGA-BRCA",
  data.category = "Transcriptome Profiling",
  data.type = "Gene Expression Quantification",
  workflow.type = "STAR - Counts"
)

# %% [R]
# Download data in safe chunks
GDCdownload(query, files.per.chunk = 20)

# %% [R]
# Prepare and save data
#brca_data <- GDCprepare(query, save = FALSE)
#save(brca_data, file = "TCGA-BRCA_mRNA.Rdata")
# Rather
GDCprepare(query, save = T, save.filename = "TCGA-BRCA_mRNA.Rdata")
